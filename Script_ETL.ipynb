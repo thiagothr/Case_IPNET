{
 "cells": [
  {
   "cell_type": "markdown",
   "metadata": {},
   "source": [
    "### Importando Bibliotecas"
   ]
  },
  {
   "cell_type": "code",
   "execution_count": null,
   "metadata": {},
   "outputs": [],
   "source": [
    "# Importando bibliotecas necessárias para o funcionamento do Pipeline\n",
    "\n",
    "import pandas as pd\n",
    "from google.oauth2 import service_account # biblioteca que autoriza acesso aos recursos do Google Cloud\n",
    "import pandas_gbq # biblioteca que permite a integração entre o pandas e o BigQuery\n"
   ]
  },
  {
   "cell_type": "markdown",
   "metadata": {},
   "source": [
    "### Carregando os datasets "
   ]
  },
  {
   "cell_type": "code",
   "execution_count": null,
   "metadata": {},
   "outputs": [],
   "source": [
    "# Carregando os arquvivos\n",
    "\n",
    "df_challenges = pd.read_table('Dados/challenges.txt',sep=',')\n",
    "df_difficulty = pd.read_table('Dados/difficulty.tsv', sep='\\t')\n",
    "df_hackers = pd.read_csv('Dados/hackers.csv', sep='|')\n",
    "df_submissions = pd.read_csv('Dados/submissions.tsv', sep='\\t')\n",
    " "
   ]
  },
  {
   "cell_type": "markdown",
   "metadata": {},
   "source": [
    "### Explorando os dataframes"
   ]
  },
  {
   "cell_type": "code",
   "execution_count": null,
   "metadata": {},
   "outputs": [],
   "source": [
    "# lendo as linhdas do dataframe\n",
    "\n",
    "#df_challenges.head()\n",
    "#df_difficulty.head()\n",
    "#df_hackers.head()\n",
    "#df_submissions.head()\n",
    "\n"
   ]
  },
  {
   "cell_type": "code",
   "execution_count": null,
   "metadata": {},
   "outputs": [],
   "source": [
    "# Verificando os tipos dos dataframes\n",
    "\n",
    "#df_challenges.dtypes\n",
    "#df_difficulty.dtypes\n",
    "#df_hackers.dtypes\n",
    "#df_submissions.dtypes"
   ]
  },
  {
   "cell_type": "markdown",
   "metadata": {},
   "source": [
    "### Realizando o tratamento do `df_difficulty` e `df_hackers`"
   ]
  },
  {
   "cell_type": "code",
   "execution_count": null,
   "metadata": {},
   "outputs": [],
   "source": [
    "# Adicionando colunas ao df_difficulty e df_hackers\n",
    "\n",
    "df_difficulty.columns = ['difficulty_level', 'score']\n",
    "df_hackers.columns = ['hacker_id', 'Nome']"
   ]
  },
  {
   "cell_type": "code",
   "execution_count": null,
   "metadata": {},
   "outputs": [],
   "source": [
    "# Verificando as mudanças no Dataframe df_difficulty\n",
    "\n",
    "df_difficulty.head()\n"
   ]
  },
  {
   "cell_type": "code",
   "execution_count": null,
   "metadata": {},
   "outputs": [],
   "source": [
    "# Verificando as mudanças no Dataframe df_hackers\n",
    "\n",
    "df_hackers.head()\n"
   ]
  },
  {
   "cell_type": "markdown",
   "metadata": {},
   "source": [
    "### Autorização e acessos ao Google Cloud"
   ]
  },
  {
   "cell_type": "code",
   "execution_count": null,
   "metadata": {},
   "outputs": [],
   "source": [
    "# Função para carregar credenciais de acesso\n",
    "\n",
    "def credenciais():\n",
    "    credencial = service_account.Credentials.from_service_account_file(\n",
    "        'crendencial/credencial_GCP.json',\n",
    "        scopes = ['https://www.googleapis.com/auth/bigquery'])\n",
    "    return credencial"
   ]
  },
  {
   "cell_type": "markdown",
   "metadata": {},
   "source": [
    "### Acessos e credenciais do BigQuery"
   ]
  },
  {
   "cell_type": "code",
   "execution_count": null,
   "metadata": {},
   "outputs": [],
   "source": [
    "# Função para carregar os dataframes para o BigQuery\n",
    "\n",
    "def BigQuery(df, tabela, credencial):\n",
    "    pandas_gbq.to_gbq(\n",
    "        df,\n",
    "        destination_table = tabela,\n",
    "        project_id ='case-gcp-426020',\n",
    "        if_exists = 'replace',\n",
    "        credentials = credencial)"
   ]
  },
  {
   "cell_type": "markdown",
   "metadata": {},
   "source": [
    "### Carregamento dos dataframes tratados para as tabelas do BigQuery"
   ]
  },
  {
   "cell_type": "code",
   "execution_count": null,
   "metadata": {},
   "outputs": [],
   "source": [
    "# Função que executa o pipeline carregando os dados para o BigQuery\n",
    "\n",
    "def pipeline_BigQuery():\n",
    "    df_challenges, df_difficulty, df_hackers, df_submissions \n",
    "    credencial = credenciais()\n",
    "    BigQuery(df_hackers, 'case-gcp-426020.Projeto_GCP.Hackers', credencial)\n",
    "    BigQuery(df_difficulty, 'case-gcp-426020.Projeto_GCP.Difficulty', credencial)\n",
    "    BigQuery(df_challenges, 'case-gcp-426020.Projeto_GCP.Challenge', credencial)\n",
    "    BigQuery(df_submissions, 'case-gcp-426020.Projeto_GCP.Submission', credencial)\n",
    "\n",
    "pipeline_BigQuery()"
   ]
  }
 ],
 "metadata": {
  "kernelspec": {
   "display_name": "Python 3",
   "language": "python",
   "name": "python3"
  },
  "language_info": {
   "codemirror_mode": {
    "name": "ipython",
    "version": 3
   },
   "file_extension": ".py",
   "mimetype": "text/x-python",
   "name": "python",
   "nbconvert_exporter": "python",
   "pygments_lexer": "ipython3",
   "version": "3.12.4"
  }
 },
 "nbformat": 4,
 "nbformat_minor": 2
}
